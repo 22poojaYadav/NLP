{
 "cells": [
  {
   "cell_type": "code",
   "execution_count": 3,
   "id": "efd35a28-fe58-48a7-aa0f-39adea420fd7",
   "metadata": {},
   "outputs": [],
   "source": [
    "import re"
   ]
  },
  {
   "cell_type": "code",
   "execution_count": 7,
   "id": "136acee1-e6c7-4b35-87ba-9d8a4415268f",
   "metadata": {},
   "outputs": [],
   "source": [
    "spam_words=['Lottery','win', 'free', 'offer','click here to proceed', 'claim now', 'urgent', 'gifts', 'sponsored', 'otp', 'download']"
   ]
  },
  {
   "cell_type": "code",
   "execution_count": 19,
   "id": "40b29c70-3532-47c5-8ce7-21729bbcc2d3",
   "metadata": {},
   "outputs": [
    {
     "name": "stdin",
     "output_type": "stream",
     "text": [
      "Enter the email click here to win\n"
     ]
    }
   ],
   "source": [
    "def spam(email):\n",
    "    email=email.lower()\n",
    "    email=re.sub(r'[^\\w\\s]','',email)\n",
    "    for word in spam_words:\n",
    "        if word in email:\n",
    "            return \"Spam E-mail\"\n",
    "    return \" valid E-mail\"\n",
    "user_input=input(\"Enter the email\")"
   ]
  },
  {
   "cell_type": "code",
   "execution_count": 21,
   "id": "00392684-b4f9-4be9-af3b-94ca551bd6bc",
   "metadata": {},
   "outputs": [
    {
     "name": "stdout",
     "output_type": "stream",
     "text": [
      "Spam E-mail\n"
     ]
    }
   ],
   "source": [
    "x=spam(user_input)\n",
    "print(x)"
   ]
  },
  {
   "cell_type": "code",
   "execution_count": null,
   "id": "006b3f52-0233-4734-8e0b-18cd22029599",
   "metadata": {},
   "outputs": [],
   "source": []
  }
 ],
 "metadata": {
  "kernelspec": {
   "display_name": "Python [conda env:base] *",
   "language": "python",
   "name": "conda-base-py"
  },
  "language_info": {
   "codemirror_mode": {
    "name": "ipython",
    "version": 3
   },
   "file_extension": ".py",
   "mimetype": "text/x-python",
   "name": "python",
   "nbconvert_exporter": "python",
   "pygments_lexer": "ipython3",
   "version": "3.12.7"
  }
 },
 "nbformat": 4,
 "nbformat_minor": 5
}
